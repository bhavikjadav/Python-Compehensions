{
 "cells": [
  {
   "cell_type": "markdown",
   "metadata": {},
   "source": [
    "# Create two lists 1.cities, 2.countries. Convert 2 lists into dictionary."
   ]
  },
  {
   "cell_type": "markdown",
   "metadata": {},
   "source": [
    "# Basic Way."
   ]
  },
  {
   "cell_type": "code",
   "execution_count": 14,
   "metadata": {},
   "outputs": [
    {
     "name": "stdout",
     "output_type": "stream",
     "text": [
      "surat bharat\n",
      "new jersy u.s.a\n",
      "vancouver canada\n"
     ]
    }
   ],
   "source": [
    "cities = [\"surat\", \"new jersy\", \"vancouver\"]\n",
    "countries = [\"bharat\", \"u.s.a\", \"canada\"]\n",
    "\n",
    "z = zip(cities, countries)\n",
    "\n",
    "for key, values in z:\n",
    "    print(key, values)"
   ]
  },
  {
   "cell_type": "markdown",
   "metadata": {},
   "source": [
    "# Using comprehension."
   ]
  },
  {
   "cell_type": "code",
   "execution_count": 15,
   "metadata": {},
   "outputs": [
    {
     "name": "stdout",
     "output_type": "stream",
     "text": [
      "{'surat': 'bharat', 'new jersy': 'u.s.a', 'vancouver': 'canada'}\n"
     ]
    }
   ],
   "source": [
    "cities = [\"surat\", \"new jersy\" ,\"vancouver\"]\n",
    "countries = [\"bharat\", \"u.s.a\", \"canada\"]\n",
    "\n",
    "d = {city:country for city, country in zip(cities, countries)}\n",
    "print(d)"
   ]
  }
 ],
 "metadata": {
  "kernelspec": {
   "display_name": "Python 3",
   "language": "python",
   "name": "python3"
  },
  "language_info": {
   "codemirror_mode": {
    "name": "ipython",
    "version": 3
   },
   "file_extension": ".py",
   "mimetype": "text/x-python",
   "name": "python",
   "nbconvert_exporter": "python",
   "pygments_lexer": "ipython3",
   "version": "3.8.5"
  }
 },
 "nbformat": 4,
 "nbformat_minor": 4
}
