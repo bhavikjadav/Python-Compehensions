{
 "cells": [
  {
   "cell_type": "markdown",
   "metadata": {},
   "source": [
    "# Definition : zip() will creates a zip object which is nohing but zip version of these two list."
   ]
  },
  {
   "cell_type": "code",
   "execution_count": 3,
   "metadata": {},
   "outputs": [
    {
     "name": "stdout",
     "output_type": "stream",
     "text": [
      "('surat', 'bharat')\n",
      "('new jersy', 'u.s.a')\n",
      "('vancuover', 'canada')\n"
     ]
    }
   ],
   "source": [
    "cities = [\"surat\", \"new jersy\", \"vancuover\"]\n",
    "countries = [\"bharat\", \"u.s.a\", \"canada\"]\n",
    "\n",
    "z = zip(cities, countries)\n",
    "\n",
    "for items in z:\n",
    "    print(items)"
   ]
  }
 ],
 "metadata": {
  "kernelspec": {
   "display_name": "Python 3",
   "language": "python",
   "name": "python3"
  },
  "language_info": {
   "codemirror_mode": {
    "name": "ipython",
    "version": 3
   },
   "file_extension": ".py",
   "mimetype": "text/x-python",
   "name": "python",
   "nbconvert_exporter": "python",
   "pygments_lexer": "ipython3",
   "version": "3.8.5"
  }
 },
 "nbformat": 4,
 "nbformat_minor": 4
}
